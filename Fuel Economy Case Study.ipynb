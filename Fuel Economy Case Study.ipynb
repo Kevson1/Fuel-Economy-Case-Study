{
 "cells": [
  {
   "cell_type": "markdown",
   "id": "ba98113e",
   "metadata": {},
   "source": [
    "# Import the required libraries"
   ]
  },
  {
   "cell_type": "code",
   "execution_count": 1,
   "id": "14048498",
   "metadata": {},
   "outputs": [],
   "source": [
    "import pandas as pd\n",
    "import numpy as np\n",
    "import matplotlib.pyplot as plt\n",
    "import seaborn as sns\n",
    "%matplotlib inline"
   ]
  },
  {
   "cell_type": "code",
   "execution_count": 2,
   "id": "171ee253",
   "metadata": {},
   "outputs": [],
   "source": [
    "# Read the datasets\n",
    "df_08 = pd.read_csv('fuel-economy-datasets/all_alpha_08.csv', sep=',')\n",
    "df_18 = pd.read_csv('fuel-economy-datasets/all_alpha_18.csv', sep=',')"
   ]
  },
  {
   "cell_type": "markdown",
   "id": "ced3bcb7",
   "metadata": {},
   "source": [
    " Verify that the data was read and saved in the dataframes successfully"
   ]
  },
  {
   "cell_type": "code",
   "execution_count": 3,
   "id": "a2ea7dc2",
   "metadata": {},
   "outputs": [
    {
     "data": {
      "text/html": [
       "<div>\n",
       "<style scoped>\n",
       "    .dataframe tbody tr th:only-of-type {\n",
       "        vertical-align: middle;\n",
       "    }\n",
       "\n",
       "    .dataframe tbody tr th {\n",
       "        vertical-align: top;\n",
       "    }\n",
       "\n",
       "    .dataframe thead th {\n",
       "        text-align: right;\n",
       "    }\n",
       "</style>\n",
       "<table border=\"1\" class=\"dataframe\">\n",
       "  <thead>\n",
       "    <tr style=\"text-align: right;\">\n",
       "      <th></th>\n",
       "      <th>Model</th>\n",
       "      <th>Displ</th>\n",
       "      <th>Cyl</th>\n",
       "      <th>Trans</th>\n",
       "      <th>Drive</th>\n",
       "      <th>Fuel</th>\n",
       "      <th>Sales Area</th>\n",
       "      <th>Stnd</th>\n",
       "      <th>Underhood ID</th>\n",
       "      <th>Veh Class</th>\n",
       "      <th>Air Pollution Score</th>\n",
       "      <th>FE Calc Appr</th>\n",
       "      <th>City MPG</th>\n",
       "      <th>Hwy MPG</th>\n",
       "      <th>Cmb MPG</th>\n",
       "      <th>Unadj Cmb MPG</th>\n",
       "      <th>Greenhouse Gas Score</th>\n",
       "      <th>SmartWay</th>\n",
       "    </tr>\n",
       "  </thead>\n",
       "  <tbody>\n",
       "    <tr>\n",
       "      <th>0</th>\n",
       "      <td>ACURA MDX</td>\n",
       "      <td>3.7</td>\n",
       "      <td>(6 cyl)</td>\n",
       "      <td>Auto-S5</td>\n",
       "      <td>4WD</td>\n",
       "      <td>Gasoline</td>\n",
       "      <td>CA</td>\n",
       "      <td>U2</td>\n",
       "      <td>8HNXT03.7PKR</td>\n",
       "      <td>SUV</td>\n",
       "      <td>7</td>\n",
       "      <td>Drv</td>\n",
       "      <td>15</td>\n",
       "      <td>20</td>\n",
       "      <td>17</td>\n",
       "      <td>22.0527</td>\n",
       "      <td>4</td>\n",
       "      <td>no</td>\n",
       "    </tr>\n",
       "    <tr>\n",
       "      <th>1</th>\n",
       "      <td>ACURA MDX</td>\n",
       "      <td>3.7</td>\n",
       "      <td>(6 cyl)</td>\n",
       "      <td>Auto-S5</td>\n",
       "      <td>4WD</td>\n",
       "      <td>Gasoline</td>\n",
       "      <td>FA</td>\n",
       "      <td>B5</td>\n",
       "      <td>8HNXT03.7PKR</td>\n",
       "      <td>SUV</td>\n",
       "      <td>6</td>\n",
       "      <td>Drv</td>\n",
       "      <td>15</td>\n",
       "      <td>20</td>\n",
       "      <td>17</td>\n",
       "      <td>22.0527</td>\n",
       "      <td>4</td>\n",
       "      <td>no</td>\n",
       "    </tr>\n",
       "    <tr>\n",
       "      <th>2</th>\n",
       "      <td>ACURA RDX</td>\n",
       "      <td>2.3</td>\n",
       "      <td>(4 cyl)</td>\n",
       "      <td>Auto-S5</td>\n",
       "      <td>4WD</td>\n",
       "      <td>Gasoline</td>\n",
       "      <td>CA</td>\n",
       "      <td>U2</td>\n",
       "      <td>8HNXT02.3DKR</td>\n",
       "      <td>SUV</td>\n",
       "      <td>7</td>\n",
       "      <td>Drv</td>\n",
       "      <td>17</td>\n",
       "      <td>22</td>\n",
       "      <td>19</td>\n",
       "      <td>24.1745</td>\n",
       "      <td>5</td>\n",
       "      <td>no</td>\n",
       "    </tr>\n",
       "    <tr>\n",
       "      <th>3</th>\n",
       "      <td>ACURA RDX</td>\n",
       "      <td>2.3</td>\n",
       "      <td>(4 cyl)</td>\n",
       "      <td>Auto-S5</td>\n",
       "      <td>4WD</td>\n",
       "      <td>Gasoline</td>\n",
       "      <td>FA</td>\n",
       "      <td>B5</td>\n",
       "      <td>8HNXT02.3DKR</td>\n",
       "      <td>SUV</td>\n",
       "      <td>6</td>\n",
       "      <td>Drv</td>\n",
       "      <td>17</td>\n",
       "      <td>22</td>\n",
       "      <td>19</td>\n",
       "      <td>24.1745</td>\n",
       "      <td>5</td>\n",
       "      <td>no</td>\n",
       "    </tr>\n",
       "    <tr>\n",
       "      <th>4</th>\n",
       "      <td>ACURA RL</td>\n",
       "      <td>3.5</td>\n",
       "      <td>(6 cyl)</td>\n",
       "      <td>Auto-S5</td>\n",
       "      <td>4WD</td>\n",
       "      <td>Gasoline</td>\n",
       "      <td>CA</td>\n",
       "      <td>U2</td>\n",
       "      <td>8HNXV03.5HKR</td>\n",
       "      <td>midsize car</td>\n",
       "      <td>7</td>\n",
       "      <td>Drv</td>\n",
       "      <td>16</td>\n",
       "      <td>24</td>\n",
       "      <td>19</td>\n",
       "      <td>24.5629</td>\n",
       "      <td>5</td>\n",
       "      <td>no</td>\n",
       "    </tr>\n",
       "  </tbody>\n",
       "</table>\n",
       "</div>"
      ],
      "text/plain": [
       "       Model  Displ      Cyl    Trans Drive      Fuel Sales Area Stnd  \\\n",
       "0  ACURA MDX    3.7  (6 cyl)  Auto-S5   4WD  Gasoline         CA   U2   \n",
       "1  ACURA MDX    3.7  (6 cyl)  Auto-S5   4WD  Gasoline         FA   B5   \n",
       "2  ACURA RDX    2.3  (4 cyl)  Auto-S5   4WD  Gasoline         CA   U2   \n",
       "3  ACURA RDX    2.3  (4 cyl)  Auto-S5   4WD  Gasoline         FA   B5   \n",
       "4   ACURA RL    3.5  (6 cyl)  Auto-S5   4WD  Gasoline         CA   U2   \n",
       "\n",
       "   Underhood ID    Veh Class Air Pollution Score FE Calc Appr City MPG  \\\n",
       "0  8HNXT03.7PKR          SUV                   7          Drv       15   \n",
       "1  8HNXT03.7PKR          SUV                   6          Drv       15   \n",
       "2  8HNXT02.3DKR          SUV                   7          Drv       17   \n",
       "3  8HNXT02.3DKR          SUV                   6          Drv       17   \n",
       "4  8HNXV03.5HKR  midsize car                   7          Drv       16   \n",
       "\n",
       "  Hwy MPG Cmb MPG  Unadj Cmb MPG Greenhouse Gas Score SmartWay  \n",
       "0      20      17        22.0527                    4       no  \n",
       "1      20      17        22.0527                    4       no  \n",
       "2      22      19        24.1745                    5       no  \n",
       "3      22      19        24.1745                    5       no  \n",
       "4      24      19        24.5629                    5       no  "
      ]
     },
     "execution_count": 3,
     "metadata": {},
     "output_type": "execute_result"
    }
   ],
   "source": [
    "df_08.head()"
   ]
  },
  {
   "cell_type": "code",
   "execution_count": 4,
   "id": "1763edc6",
   "metadata": {},
   "outputs": [
    {
     "data": {
      "text/html": [
       "<div>\n",
       "<style scoped>\n",
       "    .dataframe tbody tr th:only-of-type {\n",
       "        vertical-align: middle;\n",
       "    }\n",
       "\n",
       "    .dataframe tbody tr th {\n",
       "        vertical-align: top;\n",
       "    }\n",
       "\n",
       "    .dataframe thead th {\n",
       "        text-align: right;\n",
       "    }\n",
       "</style>\n",
       "<table border=\"1\" class=\"dataframe\">\n",
       "  <thead>\n",
       "    <tr style=\"text-align: right;\">\n",
       "      <th></th>\n",
       "      <th>Model</th>\n",
       "      <th>Displ</th>\n",
       "      <th>Cyl</th>\n",
       "      <th>Trans</th>\n",
       "      <th>Drive</th>\n",
       "      <th>Fuel</th>\n",
       "      <th>Cert Region</th>\n",
       "      <th>Stnd</th>\n",
       "      <th>Stnd Description</th>\n",
       "      <th>Underhood ID</th>\n",
       "      <th>Veh Class</th>\n",
       "      <th>Air Pollution Score</th>\n",
       "      <th>City MPG</th>\n",
       "      <th>Hwy MPG</th>\n",
       "      <th>Cmb MPG</th>\n",
       "      <th>Greenhouse Gas Score</th>\n",
       "      <th>SmartWay</th>\n",
       "      <th>Comb CO2</th>\n",
       "    </tr>\n",
       "  </thead>\n",
       "  <tbody>\n",
       "    <tr>\n",
       "      <th>0</th>\n",
       "      <td>ACURA RDX</td>\n",
       "      <td>3.5</td>\n",
       "      <td>6.0</td>\n",
       "      <td>SemiAuto-6</td>\n",
       "      <td>2WD</td>\n",
       "      <td>Gasoline</td>\n",
       "      <td>FA</td>\n",
       "      <td>T3B125</td>\n",
       "      <td>Federal Tier 3 Bin 125</td>\n",
       "      <td>JHNXT03.5GV3</td>\n",
       "      <td>small SUV</td>\n",
       "      <td>3</td>\n",
       "      <td>20</td>\n",
       "      <td>28</td>\n",
       "      <td>23</td>\n",
       "      <td>5</td>\n",
       "      <td>No</td>\n",
       "      <td>386</td>\n",
       "    </tr>\n",
       "    <tr>\n",
       "      <th>1</th>\n",
       "      <td>ACURA RDX</td>\n",
       "      <td>3.5</td>\n",
       "      <td>6.0</td>\n",
       "      <td>SemiAuto-6</td>\n",
       "      <td>2WD</td>\n",
       "      <td>Gasoline</td>\n",
       "      <td>CA</td>\n",
       "      <td>U2</td>\n",
       "      <td>California LEV-II ULEV</td>\n",
       "      <td>JHNXT03.5GV3</td>\n",
       "      <td>small SUV</td>\n",
       "      <td>3</td>\n",
       "      <td>20</td>\n",
       "      <td>28</td>\n",
       "      <td>23</td>\n",
       "      <td>5</td>\n",
       "      <td>No</td>\n",
       "      <td>386</td>\n",
       "    </tr>\n",
       "    <tr>\n",
       "      <th>2</th>\n",
       "      <td>ACURA RDX</td>\n",
       "      <td>3.5</td>\n",
       "      <td>6.0</td>\n",
       "      <td>SemiAuto-6</td>\n",
       "      <td>4WD</td>\n",
       "      <td>Gasoline</td>\n",
       "      <td>FA</td>\n",
       "      <td>T3B125</td>\n",
       "      <td>Federal Tier 3 Bin 125</td>\n",
       "      <td>JHNXT03.5GV3</td>\n",
       "      <td>small SUV</td>\n",
       "      <td>3</td>\n",
       "      <td>19</td>\n",
       "      <td>27</td>\n",
       "      <td>22</td>\n",
       "      <td>4</td>\n",
       "      <td>No</td>\n",
       "      <td>402</td>\n",
       "    </tr>\n",
       "    <tr>\n",
       "      <th>3</th>\n",
       "      <td>ACURA RDX</td>\n",
       "      <td>3.5</td>\n",
       "      <td>6.0</td>\n",
       "      <td>SemiAuto-6</td>\n",
       "      <td>4WD</td>\n",
       "      <td>Gasoline</td>\n",
       "      <td>CA</td>\n",
       "      <td>U2</td>\n",
       "      <td>California LEV-II ULEV</td>\n",
       "      <td>JHNXT03.5GV3</td>\n",
       "      <td>small SUV</td>\n",
       "      <td>3</td>\n",
       "      <td>19</td>\n",
       "      <td>27</td>\n",
       "      <td>22</td>\n",
       "      <td>4</td>\n",
       "      <td>No</td>\n",
       "      <td>402</td>\n",
       "    </tr>\n",
       "    <tr>\n",
       "      <th>4</th>\n",
       "      <td>ACURA TLX</td>\n",
       "      <td>2.4</td>\n",
       "      <td>4.0</td>\n",
       "      <td>AMS-8</td>\n",
       "      <td>2WD</td>\n",
       "      <td>Gasoline</td>\n",
       "      <td>CA</td>\n",
       "      <td>L3ULEV125</td>\n",
       "      <td>California LEV-III ULEV125</td>\n",
       "      <td>JHNXV02.4WH3</td>\n",
       "      <td>small car</td>\n",
       "      <td>3</td>\n",
       "      <td>23</td>\n",
       "      <td>33</td>\n",
       "      <td>27</td>\n",
       "      <td>6</td>\n",
       "      <td>No</td>\n",
       "      <td>330</td>\n",
       "    </tr>\n",
       "  </tbody>\n",
       "</table>\n",
       "</div>"
      ],
      "text/plain": [
       "       Model  Displ  Cyl       Trans Drive      Fuel Cert Region       Stnd  \\\n",
       "0  ACURA RDX    3.5  6.0  SemiAuto-6   2WD  Gasoline          FA     T3B125   \n",
       "1  ACURA RDX    3.5  6.0  SemiAuto-6   2WD  Gasoline          CA         U2   \n",
       "2  ACURA RDX    3.5  6.0  SemiAuto-6   4WD  Gasoline          FA     T3B125   \n",
       "3  ACURA RDX    3.5  6.0  SemiAuto-6   4WD  Gasoline          CA         U2   \n",
       "4  ACURA TLX    2.4  4.0       AMS-8   2WD  Gasoline          CA  L3ULEV125   \n",
       "\n",
       "             Stnd Description  Underhood ID  Veh Class  Air Pollution Score  \\\n",
       "0      Federal Tier 3 Bin 125  JHNXT03.5GV3  small SUV                    3   \n",
       "1      California LEV-II ULEV  JHNXT03.5GV3  small SUV                    3   \n",
       "2      Federal Tier 3 Bin 125  JHNXT03.5GV3  small SUV                    3   \n",
       "3      California LEV-II ULEV  JHNXT03.5GV3  small SUV                    3   \n",
       "4  California LEV-III ULEV125  JHNXV02.4WH3  small car                    3   \n",
       "\n",
       "  City MPG Hwy MPG Cmb MPG  Greenhouse Gas Score SmartWay Comb CO2  \n",
       "0       20      28      23                     5       No      386  \n",
       "1       20      28      23                     5       No      386  \n",
       "2       19      27      22                     4       No      402  \n",
       "3       19      27      22                     4       No      402  \n",
       "4       23      33      27                     6       No      330  "
      ]
     },
     "execution_count": 4,
     "metadata": {},
     "output_type": "execute_result"
    }
   ],
   "source": [
    "df_18.head()"
   ]
  },
  {
   "cell_type": "markdown",
   "id": "3850f727",
   "metadata": {},
   "source": [
    "# Assessing the 2008 Dataset"
   ]
  },
  {
   "cell_type": "markdown",
   "id": "ec28f417",
   "metadata": {},
   "source": [
    "## Number of samples & columns"
   ]
  },
  {
   "cell_type": "code",
   "execution_count": 5,
   "id": "7b76e084",
   "metadata": {},
   "outputs": [
    {
     "data": {
      "text/plain": [
       "(2404, 18)"
      ]
     },
     "execution_count": 5,
     "metadata": {},
     "output_type": "execute_result"
    }
   ],
   "source": [
    "df_08.shape"
   ]
  },
  {
   "cell_type": "markdown",
   "id": "76f8eab8",
   "metadata": {},
   "source": [
    "## Duplicate rows"
   ]
  },
  {
   "cell_type": "code",
   "execution_count": 6,
   "id": "51a4f769",
   "metadata": {},
   "outputs": [
    {
     "data": {
      "text/plain": [
       "25"
      ]
     },
     "execution_count": 6,
     "metadata": {},
     "output_type": "execute_result"
    }
   ],
   "source": [
    "df_08.duplicated().sum()"
   ]
  },
  {
   "cell_type": "markdown",
   "id": "90dfc54f",
   "metadata": {},
   "source": [
    "## Datatypes of each column"
   ]
  },
  {
   "cell_type": "code",
   "execution_count": 7,
   "id": "6cc42ba3",
   "metadata": {},
   "outputs": [
    {
     "data": {
      "text/plain": [
       "Model                    object\n",
       "Displ                   float64\n",
       "Cyl                      object\n",
       "Trans                    object\n",
       "Drive                    object\n",
       "Fuel                     object\n",
       "Sales Area               object\n",
       "Stnd                     object\n",
       "Underhood ID             object\n",
       "Veh Class                object\n",
       "Air Pollution Score      object\n",
       "FE Calc Appr             object\n",
       "City MPG                 object\n",
       "Hwy MPG                  object\n",
       "Cmb MPG                  object\n",
       "Unadj Cmb MPG           float64\n",
       "Greenhouse Gas Score     object\n",
       "SmartWay                 object\n",
       "dtype: object"
      ]
     },
     "execution_count": 7,
     "metadata": {},
     "output_type": "execute_result"
    }
   ],
   "source": [
    "df_08.dtypes"
   ]
  },
  {
   "cell_type": "markdown",
   "id": "63e91fd8",
   "metadata": {},
   "source": [
    "## Features with missing values"
   ]
  },
  {
   "cell_type": "code",
   "execution_count": 8,
   "id": "391d06da",
   "metadata": {},
   "outputs": [
    {
     "data": {
      "text/plain": [
       "Model                     0\n",
       "Displ                     0\n",
       "Cyl                     199\n",
       "Trans                   199\n",
       "Drive                    93\n",
       "Fuel                      0\n",
       "Sales Area                0\n",
       "Stnd                      0\n",
       "Underhood ID              0\n",
       "Veh Class                 0\n",
       "Air Pollution Score       0\n",
       "FE Calc Appr            199\n",
       "City MPG                199\n",
       "Hwy MPG                 199\n",
       "Cmb MPG                 199\n",
       "Unadj Cmb MPG           199\n",
       "Greenhouse Gas Score    199\n",
       "SmartWay                  0\n",
       "dtype: int64"
      ]
     },
     "execution_count": 8,
     "metadata": {},
     "output_type": "execute_result"
    }
   ],
   "source": [
    "df_08.isnull().sum()"
   ]
  },
  {
   "cell_type": "markdown",
   "id": "549fcd0f",
   "metadata": {},
   "source": [
    "## Number of non-null unique values for each feature"
   ]
  },
  {
   "cell_type": "markdown",
   "id": "aed328e8",
   "metadata": {},
   "source": [
    "### For the 2008 dataset"
   ]
  },
  {
   "cell_type": "code",
   "execution_count": 9,
   "id": "53849507",
   "metadata": {
    "scrolled": true
   },
   "outputs": [
    {
     "name": "stdout",
     "output_type": "stream",
     "text": [
      "Model has 436 unique entries\n",
      "Displ has 47 unique entries\n",
      "Cyl has 8 unique entries\n",
      "Trans has 14 unique entries\n",
      "Drive has 2 unique entries\n",
      "Fuel has 5 unique entries\n",
      "Sales Area has 3 unique entries\n",
      "Stnd has 12 unique entries\n",
      "Underhood ID has 343 unique entries\n",
      "Veh Class has 9 unique entries\n",
      "Air Pollution Score has 13 unique entries\n",
      "FE Calc Appr has 2 unique entries\n",
      "City MPG has 39 unique entries\n",
      "Hwy MPG has 43 unique entries\n",
      "Cmb MPG has 38 unique entries\n",
      "Unadj Cmb MPG has 721 unique entries\n",
      "Greenhouse Gas Score has 20 unique entries\n",
      "SmartWay has 2 unique entries\n"
     ]
    }
   ],
   "source": [
    "columns_08 = df_08.columns\n",
    "for col in columns_08:\n",
    "    print(col, \"has\", df_08[col].nunique(),\"unique entries\")"
   ]
  },
  {
   "cell_type": "markdown",
   "id": "3208b514",
   "metadata": {},
   "source": [
    "# Assessing the 2018 Dataset"
   ]
  },
  {
   "cell_type": "markdown",
   "id": "7b8eadab",
   "metadata": {},
   "source": [
    "## Number of samples & columns"
   ]
  },
  {
   "cell_type": "code",
   "execution_count": 10,
   "id": "7599b202",
   "metadata": {},
   "outputs": [
    {
     "data": {
      "text/plain": [
       "(1611, 18)"
      ]
     },
     "execution_count": 10,
     "metadata": {},
     "output_type": "execute_result"
    }
   ],
   "source": [
    "df_18.shape"
   ]
  },
  {
   "cell_type": "markdown",
   "id": "e52d65d6",
   "metadata": {},
   "source": [
    "## Duplicate rows"
   ]
  },
  {
   "cell_type": "code",
   "execution_count": 11,
   "id": "eef4a45e",
   "metadata": {},
   "outputs": [
    {
     "data": {
      "text/plain": [
       "0"
      ]
     },
     "execution_count": 11,
     "metadata": {},
     "output_type": "execute_result"
    }
   ],
   "source": [
    "df_18.duplicated().sum()"
   ]
  },
  {
   "cell_type": "markdown",
   "id": "1a0677d7",
   "metadata": {},
   "source": [
    "## Datatypes of each column"
   ]
  },
  {
   "cell_type": "code",
   "execution_count": 12,
   "id": "84583859",
   "metadata": {},
   "outputs": [
    {
     "data": {
      "text/plain": [
       "Model                    object\n",
       "Displ                   float64\n",
       "Cyl                     float64\n",
       "Trans                    object\n",
       "Drive                    object\n",
       "Fuel                     object\n",
       "Cert Region              object\n",
       "Stnd                     object\n",
       "Stnd Description         object\n",
       "Underhood ID             object\n",
       "Veh Class                object\n",
       "Air Pollution Score       int64\n",
       "City MPG                 object\n",
       "Hwy MPG                  object\n",
       "Cmb MPG                  object\n",
       "Greenhouse Gas Score      int64\n",
       "SmartWay                 object\n",
       "Comb CO2                 object\n",
       "dtype: object"
      ]
     },
     "execution_count": 12,
     "metadata": {},
     "output_type": "execute_result"
    }
   ],
   "source": [
    "df_18.dtypes"
   ]
  },
  {
   "cell_type": "markdown",
   "id": "bb338a54",
   "metadata": {},
   "source": [
    "## Features with missing values"
   ]
  },
  {
   "cell_type": "code",
   "execution_count": 13,
   "id": "1cc5ad9a",
   "metadata": {},
   "outputs": [
    {
     "data": {
      "text/plain": [
       "Model                   0\n",
       "Displ                   2\n",
       "Cyl                     2\n",
       "Trans                   0\n",
       "Drive                   0\n",
       "Fuel                    0\n",
       "Cert Region             0\n",
       "Stnd                    0\n",
       "Stnd Description        0\n",
       "Underhood ID            0\n",
       "Veh Class               0\n",
       "Air Pollution Score     0\n",
       "City MPG                0\n",
       "Hwy MPG                 0\n",
       "Cmb MPG                 0\n",
       "Greenhouse Gas Score    0\n",
       "SmartWay                0\n",
       "Comb CO2                0\n",
       "dtype: int64"
      ]
     },
     "execution_count": 13,
     "metadata": {},
     "output_type": "execute_result"
    }
   ],
   "source": [
    "df_18.isnull().sum()"
   ]
  },
  {
   "cell_type": "markdown",
   "id": "2fcc574e",
   "metadata": {},
   "source": [
    "## Number of non-null unique values for each feature"
   ]
  },
  {
   "cell_type": "code",
   "execution_count": 14,
   "id": "5494efcc",
   "metadata": {},
   "outputs": [
    {
     "name": "stdout",
     "output_type": "stream",
     "text": [
      "Model has 367 unique entries\n",
      "Displ has 36 unique entries\n",
      "Cyl has 7 unique entries\n",
      "Trans has 26 unique entries\n",
      "Drive has 2 unique entries\n",
      "Fuel has 5 unique entries\n",
      "Cert Region has 2 unique entries\n",
      "Stnd has 19 unique entries\n",
      "Stnd Description has 19 unique entries\n",
      "Underhood ID has 230 unique entries\n",
      "Veh Class has 9 unique entries\n",
      "Air Pollution Score has 6 unique entries\n",
      "City MPG has 58 unique entries\n",
      "Hwy MPG has 62 unique entries\n",
      "Cmb MPG has 57 unique entries\n",
      "Greenhouse Gas Score has 10 unique entries\n",
      "SmartWay has 3 unique entries\n",
      "Comb CO2 has 299 unique entries\n"
     ]
    }
   ],
   "source": [
    "columns_18 = df_18.columns\n",
    "for col in columns_18:\n",
    "    print(col, \"has\", df_18[col].nunique(),\"unique entries\")"
   ]
  },
  {
   "cell_type": "markdown",
   "id": "31b79138",
   "metadata": {},
   "source": [
    "# fuel Type comparison betwee 2008 and 2018"
   ]
  },
  {
   "cell_type": "code",
   "execution_count": 15,
   "id": "3ba6f6e5",
   "metadata": {},
   "outputs": [
    {
     "data": {
      "text/plain": [
       "array(['Gasoline', 'ethanol/gas', 'ethanol', 'diesel', 'CNG'],\n",
       "      dtype=object)"
      ]
     },
     "execution_count": 15,
     "metadata": {},
     "output_type": "execute_result"
    }
   ],
   "source": [
    "fuels_2008 = df_08['Fuel'].unique()\n",
    "fuels_2008"
   ]
  },
  {
   "cell_type": "code",
   "execution_count": 16,
   "id": "1f584a5a",
   "metadata": {},
   "outputs": [
    {
     "data": {
      "text/plain": [
       "array(['Gasoline', 'Gasoline/Electricity', 'Diesel', 'Ethanol/Gas',\n",
       "       'Electricity'], dtype=object)"
      ]
     },
     "execution_count": 16,
     "metadata": {},
     "output_type": "execute_result"
    }
   ],
   "source": [
    "fuels_2018 = df_18['Fuel'].unique()\n",
    "fuels_2018"
   ]
  },
  {
   "cell_type": "code",
   "execution_count": 17,
   "id": "2f3b8252",
   "metadata": {},
   "outputs": [
    {
     "data": {
      "text/plain": [
       "['Diesel',\n",
       " 'diesel',\n",
       " 'Gasoline',\n",
       " 'ethanol',\n",
       " 'ethanol/gas',\n",
       " 'Ethanol/Gas',\n",
       " 'Electricity',\n",
       " 'CNG',\n",
       " 'Gasoline/Electricity']"
      ]
     },
     "execution_count": 17,
     "metadata": {},
     "output_type": "execute_result"
    }
   ],
   "source": [
    "all_fuels = list(set().union(fuels_2008,fuels_2018))\n",
    "all_fuels"
   ]
  },
  {
   "cell_type": "markdown",
   "id": "b3f38fac",
   "metadata": {},
   "source": [
    "### fuels in both years"
   ]
  },
  {
   "cell_type": "code",
   "execution_count": 18,
   "id": "01554d33",
   "metadata": {},
   "outputs": [],
   "source": [
    "both_years = []\n",
    "only_2008 = []\n",
    "only_2018 = []\n",
    "for fuel in all_fuels:\n",
    "    if fuel in fuels_2008 and fuel in fuels_2018:\n",
    "        both_years.append(fuel)\n",
    "    elif fuel in fuels_2008 and fuel not in fuels_2018:\n",
    "        only_2008.append(fuel)\n",
    "    elif fuel in fuels_2018 and fuel not in fuels_2008:\n",
    "        only_2018.append(fuel)"
   ]
  },
  {
   "cell_type": "code",
   "execution_count": 19,
   "id": "e2fd2fad",
   "metadata": {},
   "outputs": [
    {
     "name": "stdout",
     "output_type": "stream",
     "text": [
      "['Gasoline']\n"
     ]
    }
   ],
   "source": [
    "print(both_years)"
   ]
  },
  {
   "cell_type": "code",
   "execution_count": 20,
   "id": "2fd2d0ca",
   "metadata": {},
   "outputs": [
    {
     "name": "stdout",
     "output_type": "stream",
     "text": [
      "['diesel', 'ethanol', 'ethanol/gas', 'CNG']\n"
     ]
    }
   ],
   "source": [
    "print(only_2008)"
   ]
  },
  {
   "cell_type": "code",
   "execution_count": 21,
   "id": "bb36712d",
   "metadata": {},
   "outputs": [
    {
     "name": "stdout",
     "output_type": "stream",
     "text": [
      "['Diesel', 'Ethanol/Gas', 'Electricity', 'Gasoline/Electricity']\n"
     ]
    }
   ],
   "source": [
    "print(only_2018)"
   ]
  },
  {
   "cell_type": "markdown",
   "id": "14913d7f",
   "metadata": {},
   "source": [
    "# Cleaning Column & Column Labels"
   ]
  },
  {
   "cell_type": "code",
   "execution_count": 22,
   "id": "eeba5ac4",
   "metadata": {},
   "outputs": [
    {
     "data": {
      "text/plain": [
       "Index(['Model', 'Displ', 'Cyl', 'Trans', 'Drive', 'Fuel', 'Sales Area', 'Stnd',\n",
       "       'Underhood ID', 'Veh Class', 'Air Pollution Score', 'FE Calc Appr',\n",
       "       'City MPG', 'Hwy MPG', 'Cmb MPG', 'Unadj Cmb MPG',\n",
       "       'Greenhouse Gas Score', 'SmartWay'],\n",
       "      dtype='object')"
      ]
     },
     "execution_count": 22,
     "metadata": {},
     "output_type": "execute_result"
    }
   ],
   "source": [
    "df_08.columns"
   ]
  },
  {
   "cell_type": "code",
   "execution_count": 23,
   "id": "b6395b13",
   "metadata": {},
   "outputs": [
    {
     "data": {
      "text/plain": [
       "Index(['Model', 'Displ', 'Cyl', 'Trans', 'Drive', 'Fuel', 'Cert Region',\n",
       "       'Stnd', 'Stnd Description', 'Underhood ID', 'Veh Class',\n",
       "       'Air Pollution Score', 'City MPG', 'Hwy MPG', 'Cmb MPG',\n",
       "       'Greenhouse Gas Score', 'SmartWay', 'Comb CO2'],\n",
       "      dtype='object')"
      ]
     },
     "execution_count": 23,
     "metadata": {},
     "output_type": "execute_result"
    }
   ],
   "source": [
    "df_18.columns"
   ]
  },
  {
   "cell_type": "markdown",
   "id": "a3a72c63",
   "metadata": {},
   "source": [
    "## Drop Extraneous Columns"
   ]
  },
  {
   "cell_type": "markdown",
   "id": "21a48e9d",
   "metadata": {},
   "source": [
    "### For the 2008 dataset, we will not be needing the following columns: `'Stnd', 'Underhood ID', 'FE Calc Appr', 'Unadj Cmb MPG'`"
   ]
  },
  {
   "cell_type": "code",
   "execution_count": 24,
   "id": "f423b02b",
   "metadata": {},
   "outputs": [
    {
     "data": {
      "text/plain": [
       "Index(['Model', 'Displ', 'Cyl', 'Trans', 'Drive', 'Fuel', 'Sales Area',\n",
       "       'Veh Class', 'Air Pollution Score', 'City MPG', 'Hwy MPG', 'Cmb MPG',\n",
       "       'Greenhouse Gas Score', 'SmartWay'],\n",
       "      dtype='object')"
      ]
     },
     "execution_count": 24,
     "metadata": {},
     "output_type": "execute_result"
    }
   ],
   "source": [
    "df_08.drop(['Stnd', 'Underhood ID', 'FE Calc Appr', 'Unadj Cmb MPG'], axis = 1, inplace = True)\n",
    "\n",
    "# Verify that the columns were dropped as needed\n",
    "df_08.columns"
   ]
  },
  {
   "cell_type": "markdown",
   "id": "232d167f",
   "metadata": {},
   "source": [
    "### For the 2008 dataset, we will not be needing the following columns: `'Stnd', 'Stnd Description', 'Underhood ID', 'Comb CO2'`"
   ]
  },
  {
   "cell_type": "code",
   "execution_count": 25,
   "id": "ef61b233",
   "metadata": {
    "scrolled": true
   },
   "outputs": [
    {
     "data": {
      "text/plain": [
       "Index(['Model', 'Displ', 'Cyl', 'Trans', 'Drive', 'Fuel', 'Cert Region',\n",
       "       'Veh Class', 'Air Pollution Score', 'City MPG', 'Hwy MPG', 'Cmb MPG',\n",
       "       'Greenhouse Gas Score', 'SmartWay'],\n",
       "      dtype='object')"
      ]
     },
     "execution_count": 25,
     "metadata": {},
     "output_type": "execute_result"
    }
   ],
   "source": [
    "df_18.drop(['Stnd', 'Stnd Description', 'Underhood ID', 'Comb CO2'], axis = 1, inplace = True)\n",
    "\n",
    "# Verify that the columns were dropped as needed\n",
    "df_18.columns"
   ]
  },
  {
   "cell_type": "markdown",
   "id": "0c5f7008",
   "metadata": {},
   "source": [
    "## Renaming Columns"
   ]
  },
  {
   "cell_type": "markdown",
   "id": "474a653c",
   "metadata": {},
   "source": [
    "### Note that some columns in the two datasets have been named differently. For Instance, we have `Sales Area` in the 2008 dataset and `Cert Region` in the 2018 dataset. Change the 2008 dataset as required"
   ]
  },
  {
   "cell_type": "code",
   "execution_count": 26,
   "id": "b7a0774c",
   "metadata": {},
   "outputs": [
    {
     "data": {
      "text/plain": [
       "Index(['Model', 'Displ', 'Cyl', 'Trans', 'Drive', 'Fuel', 'Cert Region',\n",
       "       'Veh Class', 'Air Pollution Score', 'City MPG', 'Hwy MPG', 'Cmb MPG',\n",
       "       'Greenhouse Gas Score', 'SmartWay'],\n",
       "      dtype='object')"
      ]
     },
     "execution_count": 26,
     "metadata": {},
     "output_type": "execute_result"
    }
   ],
   "source": [
    "df_08.rename(columns={'Sales Area':'Cert Region'}, inplace = True)\n",
    "\n",
    "# Verify that the column header was changed successfully\n",
    "df_08.columns"
   ]
  },
  {
   "cell_type": "markdown",
   "id": "abcf2e9c",
   "metadata": {},
   "source": [
    "## Replace the spaces between column names with underscores and change all the characters to lowercase"
   ]
  },
  {
   "cell_type": "markdown",
   "id": "e0d7ac67",
   "metadata": {},
   "source": [
    "#### For the 2008 dataset"
   ]
  },
  {
   "cell_type": "code",
   "execution_count": 27,
   "id": "e9a0ad38",
   "metadata": {},
   "outputs": [
    {
     "data": {
      "text/plain": [
       "Index(['model', 'displ', 'cyl', 'trans', 'drive', 'fuel', 'cert_region',\n",
       "       'veh_class', 'air_pollution_score', 'city_mpg', 'hwy_mpg', 'cmb_mpg',\n",
       "       'greenhouse_gas_score', 'smartway'],\n",
       "      dtype='object')"
      ]
     },
     "execution_count": 27,
     "metadata": {},
     "output_type": "execute_result"
    }
   ],
   "source": [
    "df_08.rename(columns= lambda x: x.strip().lower().replace(' ','_'), inplace = True)\n",
    "\n",
    "# verify that the column names were changed successfully\n",
    "df_08.columns"
   ]
  },
  {
   "cell_type": "markdown",
   "id": "0aee7144",
   "metadata": {},
   "source": [
    "#### For the 2018 dataset"
   ]
  },
  {
   "cell_type": "code",
   "execution_count": 28,
   "id": "999eebb6",
   "metadata": {},
   "outputs": [
    {
     "data": {
      "text/plain": [
       "Index(['model', 'displ', 'cyl', 'trans', 'drive', 'fuel', 'cert_region',\n",
       "       'veh_class', 'air_pollution_score', 'city_mpg', 'hwy_mpg', 'cmb_mpg',\n",
       "       'greenhouse_gas_score', 'smartway'],\n",
       "      dtype='object')"
      ]
     },
     "execution_count": 28,
     "metadata": {},
     "output_type": "execute_result"
    }
   ],
   "source": [
    "df_18.rename(columns= lambda x: x.strip().lower().replace(' ','_'), inplace = True)\n",
    "\n",
    "# verify that the column names were changed successfully\n",
    "df_18.columns"
   ]
  },
  {
   "cell_type": "markdown",
   "id": "c633b355",
   "metadata": {},
   "source": [
    "### Confirm that the column labels for the two datasets are identical"
   ]
  },
  {
   "cell_type": "code",
   "execution_count": 29,
   "id": "20550ec3",
   "metadata": {},
   "outputs": [
    {
     "data": {
      "text/plain": [
       "array([ True,  True,  True,  True,  True,  True,  True,  True,  True,\n",
       "        True,  True,  True,  True,  True])"
      ]
     },
     "execution_count": 29,
     "metadata": {},
     "output_type": "execute_result"
    }
   ],
   "source": [
    "df_08.columns == df_18.columns"
   ]
  },
  {
   "cell_type": "code",
   "execution_count": 30,
   "id": "e7e695e2",
   "metadata": {},
   "outputs": [
    {
     "data": {
      "text/plain": [
       "True"
      ]
     },
     "execution_count": 30,
     "metadata": {},
     "output_type": "execute_result"
    }
   ],
   "source": [
    "# The check above can also be done as follows:\n",
    "(df_08.columns==df_18.columns).all()"
   ]
  },
  {
   "cell_type": "markdown",
   "id": "e76384fd",
   "metadata": {},
   "source": [
    "## Save the datasets with the cleaned data in new files"
   ]
  },
  {
   "cell_type": "code",
   "execution_count": 31,
   "id": "8b404840",
   "metadata": {},
   "outputs": [],
   "source": [
    "df_08.to_csv('fuel-economy-datasets/data_08_v1.csv', index=False)\n",
    "df_18.to_csv('fuel-economy-datasets/data_18_v1.csv', index=False)"
   ]
  },
  {
   "cell_type": "markdown",
   "id": "bee00ee2",
   "metadata": {},
   "source": [
    "#################################################################################################################"
   ]
  },
  {
   "cell_type": "markdown",
   "id": "4ad3eb61",
   "metadata": {},
   "source": [
    "# Load the datasets with the cleaned column names"
   ]
  },
  {
   "cell_type": "code",
   "execution_count": 32,
   "id": "cef2571c",
   "metadata": {},
   "outputs": [],
   "source": [
    "new_df_08 = pd.read_csv('fuel-economy-datasets/data_08_v1.csv')\n",
    "new_df_18 = pd.read_csv('fuel-economy-datasets/data_18_v1.csv')"
   ]
  },
  {
   "cell_type": "code",
   "execution_count": 33,
   "id": "45114114",
   "metadata": {},
   "outputs": [
    {
     "data": {
      "text/plain": [
       "(2404, 14)"
      ]
     },
     "execution_count": 33,
     "metadata": {},
     "output_type": "execute_result"
    }
   ],
   "source": [
    "new_df_08.shape"
   ]
  },
  {
   "cell_type": "code",
   "execution_count": 34,
   "id": "e1a35348",
   "metadata": {},
   "outputs": [
    {
     "data": {
      "text/plain": [
       "(1611, 14)"
      ]
     },
     "execution_count": 34,
     "metadata": {},
     "output_type": "execute_result"
    }
   ],
   "source": [
    "new_df_18.shape"
   ]
  },
  {
   "cell_type": "markdown",
   "id": "a6da5b61",
   "metadata": {},
   "source": [
    "# Filter by Certification Region"
   ]
  },
  {
   "cell_type": "markdown",
   "id": "b3caea00",
   "metadata": {},
   "source": [
    "## Filter the datasets for rows following California standards"
   ]
  },
  {
   "cell_type": "code",
   "execution_count": 35,
   "id": "13f9cda5",
   "metadata": {},
   "outputs": [],
   "source": [
    "# The 2008 Dataset\n",
    "df_08_CA = df_08.query('cert_region == \"CA\"')\n",
    "# The 2018 Dataset\n",
    "df_18_CA = df_18.query('cert_region == \"CA\"')"
   ]
  },
  {
   "cell_type": "code",
   "execution_count": 36,
   "id": "b0e657ec",
   "metadata": {},
   "outputs": [
    {
     "data": {
      "text/plain": [
       "array(['CA'], dtype=object)"
      ]
     },
     "execution_count": 36,
     "metadata": {},
     "output_type": "execute_result"
    }
   ],
   "source": [
    "# Confirm certification region is only California (2008)\n",
    "df_08_CA['cert_region'].unique()"
   ]
  },
  {
   "cell_type": "code",
   "execution_count": 37,
   "id": "457bf7a4",
   "metadata": {},
   "outputs": [
    {
     "data": {
      "text/plain": [
       "array(['CA'], dtype=object)"
      ]
     },
     "execution_count": 37,
     "metadata": {},
     "output_type": "execute_result"
    }
   ],
   "source": [
    "# Confirm certification region is only California (2018)\n",
    "df_18_CA['cert_region'].unique()"
   ]
  },
  {
   "cell_type": "markdown",
   "id": "daa7f027",
   "metadata": {},
   "source": [
    "# Drop the certification region in both datasets"
   ]
  },
  {
   "cell_type": "code",
   "execution_count": 38,
   "id": "6d57d168",
   "metadata": {},
   "outputs": [
    {
     "name": "stderr",
     "output_type": "stream",
     "text": [
      "/tmp/ipykernel_16783/531422920.py:1: SettingWithCopyWarning: \n",
      "A value is trying to be set on a copy of a slice from a DataFrame\n",
      "\n",
      "See the caveats in the documentation: https://pandas.pydata.org/pandas-docs/stable/user_guide/indexing.html#returning-a-view-versus-a-copy\n",
      "  df_08_CA.drop('cert_region', axis = 1, inplace = True)\n",
      "/tmp/ipykernel_16783/531422920.py:2: SettingWithCopyWarning: \n",
      "A value is trying to be set on a copy of a slice from a DataFrame\n",
      "\n",
      "See the caveats in the documentation: https://pandas.pydata.org/pandas-docs/stable/user_guide/indexing.html#returning-a-view-versus-a-copy\n",
      "  df_18_CA.drop('cert_region', axis = 1, inplace = True)\n"
     ]
    }
   ],
   "source": [
    "df_08_CA.drop('cert_region', axis = 1, inplace = True)\n",
    "df_18_CA.drop('cert_region', axis = 1, inplace = True)"
   ]
  },
  {
   "cell_type": "code",
   "execution_count": 39,
   "id": "0b674667",
   "metadata": {},
   "outputs": [
    {
     "data": {
      "text/plain": [
       "(1084, 13)"
      ]
     },
     "execution_count": 39,
     "metadata": {},
     "output_type": "execute_result"
    }
   ],
   "source": [
    "df_08_CA.shape"
   ]
  },
  {
   "cell_type": "code",
   "execution_count": 40,
   "id": "6931c03f",
   "metadata": {},
   "outputs": [
    {
     "data": {
      "text/plain": [
       "(798, 13)"
      ]
     },
     "execution_count": 40,
     "metadata": {},
     "output_type": "execute_result"
    }
   ],
   "source": [
    "df_18_CA.shape"
   ]
  },
  {
   "cell_type": "markdown",
   "id": "d8235355",
   "metadata": {},
   "source": [
    "# Drop Rows with Missing Values"
   ]
  },
  {
   "cell_type": "markdown",
   "id": "495d9aa8",
   "metadata": {},
   "source": [
    "## Check missing value count for each feature in 2008 dataset"
   ]
  },
  {
   "cell_type": "code",
   "execution_count": 41,
   "id": "0ae2501f",
   "metadata": {},
   "outputs": [
    {
     "data": {
      "text/plain": [
       "model                    0\n",
       "displ                    0\n",
       "cyl                     75\n",
       "trans                   75\n",
       "drive                   37\n",
       "fuel                     0\n",
       "veh_class                0\n",
       "air_pollution_score      0\n",
       "city_mpg                75\n",
       "hwy_mpg                 75\n",
       "cmb_mpg                 75\n",
       "greenhouse_gas_score    75\n",
       "smartway                 0\n",
       "dtype: int64"
      ]
     },
     "execution_count": 41,
     "metadata": {},
     "output_type": "execute_result"
    }
   ],
   "source": [
    "df_08_CA.isnull().sum()"
   ]
  },
  {
   "cell_type": "markdown",
   "id": "e3e2f4f1",
   "metadata": {},
   "source": [
    "### Drop the rows with missing values"
   ]
  },
  {
   "cell_type": "code",
   "execution_count": 42,
   "id": "d70fab93",
   "metadata": {},
   "outputs": [
    {
     "name": "stderr",
     "output_type": "stream",
     "text": [
      "/tmp/ipykernel_16783/2769436724.py:1: SettingWithCopyWarning: \n",
      "A value is trying to be set on a copy of a slice from a DataFrame\n",
      "\n",
      "See the caveats in the documentation: https://pandas.pydata.org/pandas-docs/stable/user_guide/indexing.html#returning-a-view-versus-a-copy\n",
      "  df_08_CA.dropna(inplace = True)\n"
     ]
    }
   ],
   "source": [
    "df_08_CA.dropna(inplace = True)"
   ]
  },
  {
   "cell_type": "code",
   "execution_count": 43,
   "id": "cc4b58a9",
   "metadata": {},
   "outputs": [
    {
     "data": {
      "text/plain": [
       "False"
      ]
     },
     "execution_count": 43,
     "metadata": {},
     "output_type": "execute_result"
    }
   ],
   "source": [
    "# Verify that the rows with null values were dropped.\n",
    "df_08_CA.isnull().sum().any()"
   ]
  },
  {
   "cell_type": "markdown",
   "id": "fba8fdb8",
   "metadata": {},
   "source": [
    "## Check missing value count for each feature in 2008 dataset"
   ]
  },
  {
   "cell_type": "code",
   "execution_count": 44,
   "id": "8c8d5f32",
   "metadata": {},
   "outputs": [
    {
     "data": {
      "text/plain": [
       "model                   0\n",
       "displ                   1\n",
       "cyl                     1\n",
       "trans                   0\n",
       "drive                   0\n",
       "fuel                    0\n",
       "veh_class               0\n",
       "air_pollution_score     0\n",
       "city_mpg                0\n",
       "hwy_mpg                 0\n",
       "cmb_mpg                 0\n",
       "greenhouse_gas_score    0\n",
       "smartway                0\n",
       "dtype: int64"
      ]
     },
     "execution_count": 44,
     "metadata": {},
     "output_type": "execute_result"
    }
   ],
   "source": [
    "df_18_CA.isnull().sum()"
   ]
  },
  {
   "cell_type": "markdown",
   "id": "1f39200d",
   "metadata": {},
   "source": [
    "### Drop the rows with missing values"
   ]
  },
  {
   "cell_type": "code",
   "execution_count": 45,
   "id": "f80d1514",
   "metadata": {},
   "outputs": [
    {
     "name": "stderr",
     "output_type": "stream",
     "text": [
      "/tmp/ipykernel_16783/3541200519.py:1: SettingWithCopyWarning: \n",
      "A value is trying to be set on a copy of a slice from a DataFrame\n",
      "\n",
      "See the caveats in the documentation: https://pandas.pydata.org/pandas-docs/stable/user_guide/indexing.html#returning-a-view-versus-a-copy\n",
      "  df_18_CA.dropna(inplace=True)\n"
     ]
    }
   ],
   "source": [
    "df_18_CA.dropna(inplace=True)"
   ]
  },
  {
   "cell_type": "code",
   "execution_count": 46,
   "id": "0a4d2e59",
   "metadata": {},
   "outputs": [
    {
     "data": {
      "text/plain": [
       "False"
      ]
     },
     "execution_count": 46,
     "metadata": {},
     "output_type": "execute_result"
    }
   ],
   "source": [
    "# Verify that the rows with null values were dropped.\n",
    "df_18_CA.isnull().sum().any()"
   ]
  },
  {
   "cell_type": "markdown",
   "id": "3e2bcd74",
   "metadata": {},
   "source": [
    "# Dealing with Duplicates"
   ]
  },
  {
   "cell_type": "markdown",
   "id": "128c397d",
   "metadata": {},
   "source": [
    "## check the number of duplicates in each dataset"
   ]
  },
  {
   "cell_type": "code",
   "execution_count": 47,
   "id": "4b0b88b7",
   "metadata": {},
   "outputs": [
    {
     "name": "stdout",
     "output_type": "stream",
     "text": [
      "23\n",
      "3\n"
     ]
    }
   ],
   "source": [
    "print(df_08_CA.duplicated().sum())\n",
    "print(df_18_CA.duplicated().sum())"
   ]
  },
  {
   "cell_type": "markdown",
   "id": "d511f5e1",
   "metadata": {},
   "source": [
    "## Drop the duplicates in both datasets"
   ]
  },
  {
   "cell_type": "code",
   "execution_count": 48,
   "id": "2eb8ccc1",
   "metadata": {},
   "outputs": [
    {
     "name": "stderr",
     "output_type": "stream",
     "text": [
      "/tmp/ipykernel_16783/2824582573.py:1: SettingWithCopyWarning: \n",
      "A value is trying to be set on a copy of a slice from a DataFrame\n",
      "\n",
      "See the caveats in the documentation: https://pandas.pydata.org/pandas-docs/stable/user_guide/indexing.html#returning-a-view-versus-a-copy\n",
      "  df_08_CA.drop_duplicates(inplace = True)\n",
      "/tmp/ipykernel_16783/2824582573.py:2: SettingWithCopyWarning: \n",
      "A value is trying to be set on a copy of a slice from a DataFrame\n",
      "\n",
      "See the caveats in the documentation: https://pandas.pydata.org/pandas-docs/stable/user_guide/indexing.html#returning-a-view-versus-a-copy\n",
      "  df_18_CA.drop_duplicates(inplace = True)\n"
     ]
    }
   ],
   "source": [
    "df_08_CA.drop_duplicates(inplace = True)\n",
    "df_18_CA.drop_duplicates(inplace = True)"
   ]
  },
  {
   "cell_type": "code",
   "execution_count": 49,
   "id": "88678362",
   "metadata": {},
   "outputs": [
    {
     "name": "stdout",
     "output_type": "stream",
     "text": [
      "0\n",
      "0\n"
     ]
    }
   ],
   "source": [
    "# Verify that the duplicates were droped\n",
    "print(df_08_CA.duplicated().sum())\n",
    "print(df_18_CA.duplicated().sum())"
   ]
  },
  {
   "cell_type": "markdown",
   "id": "b2cb6181",
   "metadata": {},
   "source": [
    "# Save the cleaned data in new files"
   ]
  },
  {
   "cell_type": "code",
   "execution_count": 50,
   "id": "8c8c8b7a",
   "metadata": {},
   "outputs": [],
   "source": [
    "df_08_CA.to_csv('fuel-economy-datasets/data_08_v2.csv')\n",
    "df_18_CA.to_csv('fuel-economy-datasets/data_18_v2.csv')"
   ]
  },
  {
   "cell_type": "code",
   "execution_count": null,
   "id": "2e5ccf38",
   "metadata": {},
   "outputs": [],
   "source": []
  }
 ],
 "metadata": {
  "kernelspec": {
   "display_name": "Python 3 (ipykernel)",
   "language": "python",
   "name": "python3"
  },
  "language_info": {
   "codemirror_mode": {
    "name": "ipython",
    "version": 3
   },
   "file_extension": ".py",
   "mimetype": "text/x-python",
   "name": "python",
   "nbconvert_exporter": "python",
   "pygments_lexer": "ipython3",
   "version": "3.9.12"
  }
 },
 "nbformat": 4,
 "nbformat_minor": 5
}
